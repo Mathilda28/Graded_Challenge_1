{
  "cells": [
    {
      "cell_type": "markdown",
      "source": [
        "#Introduction\n",
        "\n"
      ],
      "metadata": {
        "id": "FiVNMe5mnLp1"
      }
    },
    {
      "cell_type": "markdown",
      "source": [
        "##Graded Challenge 1\n",
        "##Nama : Mathilda Hosiana Tambun\n",
        "##Batch : 006 HCK"
      ],
      "metadata": {
        "id": "kaKtv9ipn5UU"
      }
    },
    {
      "cell_type": "markdown",
      "metadata": {
        "id": "uFCqc28MhitF"
      },
      "source": [
        "## Latar Belakang\n",
        "Latar belakang permasalahan, pada akhir tahun 2019 dunia sedang menghadapi masalah besar. Berawal dari munculnya suatu wabah penyakit yang disebabkan oleh virus corona atau yang akrab disebut Covid 19, hampir semua aspek kehidupan mengalami perubahan-perubahan yang semakin hari semakin mengkhawatirkan, mendebarkan seluruh isi dunia. Covid-19 telah menjadi perhatian publik sejak kemunculannya terdeteksi di Tiongkok di kota Wuhan Provinsi Hubei untuk kali pertama di awal tahun 2020. Meninggalnya ribuan jiwa akibat virus ini membuatnya menjadi pusat perhatian banyak negara, termasuk provinsi di beberapa negara sehingga WHO tanggal 11 Maret 2020 menetapkan wabah ini sebagai pandemi global."
      ]
    },
    {
      "cell_type": "markdown",
      "source": [
        "## Problem Statement\n",
        "\n",
        "Analisa data covid 19 sanagat penting agar kita dapat melihat perkembangan setiap tahunnya agar menjadi referensi atau pembelajaran saat ada kasus yang sama sehingga dapat membandingkan data tiap tahun khususnya di tahun 2022 pada beberapa provinsi negara."
      ],
      "metadata": {
        "id": "6tMO4i2Lp8pW"
      }
    },
    {
      "cell_type": "markdown",
      "source": [
        "# II. Import pustaka"
      ],
      "metadata": {
        "id": "i6RZg8AjqKRx"
      }
    },
    {
      "cell_type": "code",
      "execution_count": 39,
      "metadata": {
        "id": "EacgWDkDJzht"
      },
      "outputs": [],
      "source": [
        "#Menggunakan AS dalam menyingkat penamaan numpy dan pandas\n",
        "import numpy as np\n",
        "import pandas as pd\n",
        "from pandas.core.base import duplicated"
      ]
    },
    {
      "cell_type": "code",
      "execution_count": 40,
      "metadata": {
        "id": "3y65cu0-J9CZ"
      },
      "outputs": [],
      "source": [
        "#Memanggil dataset dengan format CSV\n",
        "df = pd.read_csv('https://raw.githubusercontent.com/Mathilda28/GC1/main/h8dsft_P0GC1_Mathilda.csv')"
      ]
    },
    {
      "cell_type": "markdown",
      "metadata": {
        "id": "F-USQ9_Gm1aE"
      },
      "source": [
        "df merupakan variabel atau bisa juga untuk menampilkan dataset dan untuk read_csv akan menampilkan dataset yang akan di bantu oleh df. Karena data ini berbentuk csv jadi kita menggunakan read_csv tapi kalo formatnya berbentuk excel jadi pakenya pd.read_excel jadi bisa disesuaikan sama format data yang akan kita gunakan."
      ]
    },
    {
      "cell_type": "markdown",
      "source": [
        "# III. Data Loading"
      ],
      "metadata": {
        "id": "9Q3tSN6S1IJz"
      }
    },
    {
      "cell_type": "code",
      "execution_count": 41,
      "metadata": {
        "colab": {
          "base_uri": "https://localhost:8080/",
          "height": 424
        },
        "id": "6_vXeoG4jimq",
        "outputId": "4f17541b-c223-4666-f8fc-826754506cd4"
      },
      "outputs": [
        {
          "output_type": "execute_result",
          "data": {
            "text/plain": [
              "        province_state  confirmed  deaths        date\n",
              "0               Kansas        3.0     0.0  2020-05-15\n",
              "1            Tennessee       88.0     0.0  2020-05-15\n",
              "2              Georgia      695.0    23.0  2020-05-15\n",
              "3             Nebraska        1.0     0.0  2020-05-15\n",
              "4             Nebraska        8.0     0.0  2020-05-15\n",
              "...                ...        ...     ...         ...\n",
              "235706  South Carolina     8791.0   155.0  2022-09-11\n",
              "235707    South Dakota     5076.0    63.0  2022-09-11\n",
              "235708    South Dakota     3708.0    24.0  2022-09-11\n",
              "235709    South Dakota     1000.0    16.0  2022-09-11\n",
              "235710    South Dakota     1675.0    41.0  2022-09-11\n",
              "\n",
              "[235711 rows x 4 columns]"
            ],
            "text/html": [
              "\n",
              "  <div id=\"df-38b484a1-2018-4994-a975-bc3cce7057c7\" class=\"colab-df-container\">\n",
              "    <div>\n",
              "<style scoped>\n",
              "    .dataframe tbody tr th:only-of-type {\n",
              "        vertical-align: middle;\n",
              "    }\n",
              "\n",
              "    .dataframe tbody tr th {\n",
              "        vertical-align: top;\n",
              "    }\n",
              "\n",
              "    .dataframe thead th {\n",
              "        text-align: right;\n",
              "    }\n",
              "</style>\n",
              "<table border=\"1\" class=\"dataframe\">\n",
              "  <thead>\n",
              "    <tr style=\"text-align: right;\">\n",
              "      <th></th>\n",
              "      <th>province_state</th>\n",
              "      <th>confirmed</th>\n",
              "      <th>deaths</th>\n",
              "      <th>date</th>\n",
              "    </tr>\n",
              "  </thead>\n",
              "  <tbody>\n",
              "    <tr>\n",
              "      <th>0</th>\n",
              "      <td>Kansas</td>\n",
              "      <td>3.0</td>\n",
              "      <td>0.0</td>\n",
              "      <td>2020-05-15</td>\n",
              "    </tr>\n",
              "    <tr>\n",
              "      <th>1</th>\n",
              "      <td>Tennessee</td>\n",
              "      <td>88.0</td>\n",
              "      <td>0.0</td>\n",
              "      <td>2020-05-15</td>\n",
              "    </tr>\n",
              "    <tr>\n",
              "      <th>2</th>\n",
              "      <td>Georgia</td>\n",
              "      <td>695.0</td>\n",
              "      <td>23.0</td>\n",
              "      <td>2020-05-15</td>\n",
              "    </tr>\n",
              "    <tr>\n",
              "      <th>3</th>\n",
              "      <td>Nebraska</td>\n",
              "      <td>1.0</td>\n",
              "      <td>0.0</td>\n",
              "      <td>2020-05-15</td>\n",
              "    </tr>\n",
              "    <tr>\n",
              "      <th>4</th>\n",
              "      <td>Nebraska</td>\n",
              "      <td>8.0</td>\n",
              "      <td>0.0</td>\n",
              "      <td>2020-05-15</td>\n",
              "    </tr>\n",
              "    <tr>\n",
              "      <th>...</th>\n",
              "      <td>...</td>\n",
              "      <td>...</td>\n",
              "      <td>...</td>\n",
              "      <td>...</td>\n",
              "    </tr>\n",
              "    <tr>\n",
              "      <th>235706</th>\n",
              "      <td>South Carolina</td>\n",
              "      <td>8791.0</td>\n",
              "      <td>155.0</td>\n",
              "      <td>2022-09-11</td>\n",
              "    </tr>\n",
              "    <tr>\n",
              "      <th>235707</th>\n",
              "      <td>South Dakota</td>\n",
              "      <td>5076.0</td>\n",
              "      <td>63.0</td>\n",
              "      <td>2022-09-11</td>\n",
              "    </tr>\n",
              "    <tr>\n",
              "      <th>235708</th>\n",
              "      <td>South Dakota</td>\n",
              "      <td>3708.0</td>\n",
              "      <td>24.0</td>\n",
              "      <td>2022-09-11</td>\n",
              "    </tr>\n",
              "    <tr>\n",
              "      <th>235709</th>\n",
              "      <td>South Dakota</td>\n",
              "      <td>1000.0</td>\n",
              "      <td>16.0</td>\n",
              "      <td>2022-09-11</td>\n",
              "    </tr>\n",
              "    <tr>\n",
              "      <th>235710</th>\n",
              "      <td>South Dakota</td>\n",
              "      <td>1675.0</td>\n",
              "      <td>41.0</td>\n",
              "      <td>2022-09-11</td>\n",
              "    </tr>\n",
              "  </tbody>\n",
              "</table>\n",
              "<p>235711 rows × 4 columns</p>\n",
              "</div>\n",
              "    <div class=\"colab-df-buttons\">\n",
              "\n",
              "  <div class=\"colab-df-container\">\n",
              "    <button class=\"colab-df-convert\" onclick=\"convertToInteractive('df-38b484a1-2018-4994-a975-bc3cce7057c7')\"\n",
              "            title=\"Convert this dataframe to an interactive table.\"\n",
              "            style=\"display:none;\">\n",
              "\n",
              "  <svg xmlns=\"http://www.w3.org/2000/svg\" height=\"24px\" viewBox=\"0 -960 960 960\">\n",
              "    <path d=\"M120-120v-720h720v720H120Zm60-500h600v-160H180v160Zm220 220h160v-160H400v160Zm0 220h160v-160H400v160ZM180-400h160v-160H180v160Zm440 0h160v-160H620v160ZM180-180h160v-160H180v160Zm440 0h160v-160H620v160Z\"/>\n",
              "  </svg>\n",
              "    </button>\n",
              "\n",
              "  <style>\n",
              "    .colab-df-container {\n",
              "      display:flex;\n",
              "      gap: 12px;\n",
              "    }\n",
              "\n",
              "    .colab-df-convert {\n",
              "      background-color: #E8F0FE;\n",
              "      border: none;\n",
              "      border-radius: 50%;\n",
              "      cursor: pointer;\n",
              "      display: none;\n",
              "      fill: #1967D2;\n",
              "      height: 32px;\n",
              "      padding: 0 0 0 0;\n",
              "      width: 32px;\n",
              "    }\n",
              "\n",
              "    .colab-df-convert:hover {\n",
              "      background-color: #E2EBFA;\n",
              "      box-shadow: 0px 1px 2px rgba(60, 64, 67, 0.3), 0px 1px 3px 1px rgba(60, 64, 67, 0.15);\n",
              "      fill: #174EA6;\n",
              "    }\n",
              "\n",
              "    .colab-df-buttons div {\n",
              "      margin-bottom: 4px;\n",
              "    }\n",
              "\n",
              "    [theme=dark] .colab-df-convert {\n",
              "      background-color: #3B4455;\n",
              "      fill: #D2E3FC;\n",
              "    }\n",
              "\n",
              "    [theme=dark] .colab-df-convert:hover {\n",
              "      background-color: #434B5C;\n",
              "      box-shadow: 0px 1px 3px 1px rgba(0, 0, 0, 0.15);\n",
              "      filter: drop-shadow(0px 1px 2px rgba(0, 0, 0, 0.3));\n",
              "      fill: #FFFFFF;\n",
              "    }\n",
              "  </style>\n",
              "\n",
              "    <script>\n",
              "      const buttonEl =\n",
              "        document.querySelector('#df-38b484a1-2018-4994-a975-bc3cce7057c7 button.colab-df-convert');\n",
              "      buttonEl.style.display =\n",
              "        google.colab.kernel.accessAllowed ? 'block' : 'none';\n",
              "\n",
              "      async function convertToInteractive(key) {\n",
              "        const element = document.querySelector('#df-38b484a1-2018-4994-a975-bc3cce7057c7');\n",
              "        const dataTable =\n",
              "          await google.colab.kernel.invokeFunction('convertToInteractive',\n",
              "                                                    [key], {});\n",
              "        if (!dataTable) return;\n",
              "\n",
              "        const docLinkHtml = 'Like what you see? Visit the ' +\n",
              "          '<a target=\"_blank\" href=https://colab.research.google.com/notebooks/data_table.ipynb>data table notebook</a>'\n",
              "          + ' to learn more about interactive tables.';\n",
              "        element.innerHTML = '';\n",
              "        dataTable['output_type'] = 'display_data';\n",
              "        await google.colab.output.renderOutput(dataTable, element);\n",
              "        const docLink = document.createElement('div');\n",
              "        docLink.innerHTML = docLinkHtml;\n",
              "        element.appendChild(docLink);\n",
              "      }\n",
              "    </script>\n",
              "  </div>\n",
              "\n",
              "\n",
              "<div id=\"df-cc0d586d-37f9-4446-8557-7ffc6552e54f\">\n",
              "  <button class=\"colab-df-quickchart\" onclick=\"quickchart('df-cc0d586d-37f9-4446-8557-7ffc6552e54f')\"\n",
              "            title=\"Suggest charts.\"\n",
              "            style=\"display:none;\">\n",
              "\n",
              "<svg xmlns=\"http://www.w3.org/2000/svg\" height=\"24px\"viewBox=\"0 0 24 24\"\n",
              "     width=\"24px\">\n",
              "    <g>\n",
              "        <path d=\"M19 3H5c-1.1 0-2 .9-2 2v14c0 1.1.9 2 2 2h14c1.1 0 2-.9 2-2V5c0-1.1-.9-2-2-2zM9 17H7v-7h2v7zm4 0h-2V7h2v10zm4 0h-2v-4h2v4z\"/>\n",
              "    </g>\n",
              "</svg>\n",
              "  </button>\n",
              "\n",
              "<style>\n",
              "  .colab-df-quickchart {\n",
              "    background-color: #E8F0FE;\n",
              "    border: none;\n",
              "    border-radius: 50%;\n",
              "    cursor: pointer;\n",
              "    display: none;\n",
              "    fill: #1967D2;\n",
              "    height: 32px;\n",
              "    padding: 0 0 0 0;\n",
              "    width: 32px;\n",
              "  }\n",
              "\n",
              "  .colab-df-quickchart:hover {\n",
              "    background-color: #E2EBFA;\n",
              "    box-shadow: 0px 1px 2px rgba(60, 64, 67, 0.3), 0px 1px 3px 1px rgba(60, 64, 67, 0.15);\n",
              "    fill: #174EA6;\n",
              "  }\n",
              "\n",
              "  [theme=dark] .colab-df-quickchart {\n",
              "    background-color: #3B4455;\n",
              "    fill: #D2E3FC;\n",
              "  }\n",
              "\n",
              "  [theme=dark] .colab-df-quickchart:hover {\n",
              "    background-color: #434B5C;\n",
              "    box-shadow: 0px 1px 3px 1px rgba(0, 0, 0, 0.15);\n",
              "    filter: drop-shadow(0px 1px 2px rgba(0, 0, 0, 0.3));\n",
              "    fill: #FFFFFF;\n",
              "  }\n",
              "</style>\n",
              "\n",
              "  <script>\n",
              "    async function quickchart(key) {\n",
              "      const charts = await google.colab.kernel.invokeFunction(\n",
              "          'suggestCharts', [key], {});\n",
              "    }\n",
              "    (() => {\n",
              "      let quickchartButtonEl =\n",
              "        document.querySelector('#df-cc0d586d-37f9-4446-8557-7ffc6552e54f button');\n",
              "      quickchartButtonEl.style.display =\n",
              "        google.colab.kernel.accessAllowed ? 'block' : 'none';\n",
              "    })();\n",
              "  </script>\n",
              "</div>\n",
              "    </div>\n",
              "  </div>\n"
            ]
          },
          "metadata": {},
          "execution_count": 41
        }
      ],
      "source": [
        "#Menampilkan seluruh dataset\n",
        "df"
      ]
    },
    {
      "cell_type": "markdown",
      "metadata": {
        "id": "VBqxceFppLxF"
      },
      "source": [
        "Ini merupakan dataset yang akan kita gunakan dimana terdiri dari empat kolom dan jumlah baris ada 235711"
      ]
    },
    {
      "cell_type": "code",
      "execution_count": 42,
      "metadata": {
        "colab": {
          "base_uri": "https://localhost:8080/",
          "height": 363
        },
        "id": "xBBJ1SVFnNPs",
        "outputId": "284a3d9c-b2ff-4c67-bca8-460b7e6a5cfe"
      },
      "outputs": [
        {
          "output_type": "execute_result",
          "data": {
            "text/plain": [
              "  province_state  confirmed  deaths        date\n",
              "0         Kansas        3.0     0.0  2020-05-15\n",
              "1      Tennessee       88.0     0.0  2020-05-15\n",
              "2        Georgia      695.0    23.0  2020-05-15\n",
              "3       Nebraska        1.0     0.0  2020-05-15\n",
              "4       Nebraska        8.0     0.0  2020-05-15\n",
              "5          Texas        2.0     0.0  2020-05-15\n",
              "6       Illinois       30.0     4.0  2020-05-15\n",
              "7      Tennessee        7.0     0.0  2020-05-15\n",
              "8     Washington       21.0     0.0  2020-05-15\n",
              "9       Michigan       14.0     2.0  2020-05-15"
            ],
            "text/html": [
              "\n",
              "  <div id=\"df-160c1f0e-2d16-4e4b-97fa-91ff1d4667bb\" class=\"colab-df-container\">\n",
              "    <div>\n",
              "<style scoped>\n",
              "    .dataframe tbody tr th:only-of-type {\n",
              "        vertical-align: middle;\n",
              "    }\n",
              "\n",
              "    .dataframe tbody tr th {\n",
              "        vertical-align: top;\n",
              "    }\n",
              "\n",
              "    .dataframe thead th {\n",
              "        text-align: right;\n",
              "    }\n",
              "</style>\n",
              "<table border=\"1\" class=\"dataframe\">\n",
              "  <thead>\n",
              "    <tr style=\"text-align: right;\">\n",
              "      <th></th>\n",
              "      <th>province_state</th>\n",
              "      <th>confirmed</th>\n",
              "      <th>deaths</th>\n",
              "      <th>date</th>\n",
              "    </tr>\n",
              "  </thead>\n",
              "  <tbody>\n",
              "    <tr>\n",
              "      <th>0</th>\n",
              "      <td>Kansas</td>\n",
              "      <td>3.0</td>\n",
              "      <td>0.0</td>\n",
              "      <td>2020-05-15</td>\n",
              "    </tr>\n",
              "    <tr>\n",
              "      <th>1</th>\n",
              "      <td>Tennessee</td>\n",
              "      <td>88.0</td>\n",
              "      <td>0.0</td>\n",
              "      <td>2020-05-15</td>\n",
              "    </tr>\n",
              "    <tr>\n",
              "      <th>2</th>\n",
              "      <td>Georgia</td>\n",
              "      <td>695.0</td>\n",
              "      <td>23.0</td>\n",
              "      <td>2020-05-15</td>\n",
              "    </tr>\n",
              "    <tr>\n",
              "      <th>3</th>\n",
              "      <td>Nebraska</td>\n",
              "      <td>1.0</td>\n",
              "      <td>0.0</td>\n",
              "      <td>2020-05-15</td>\n",
              "    </tr>\n",
              "    <tr>\n",
              "      <th>4</th>\n",
              "      <td>Nebraska</td>\n",
              "      <td>8.0</td>\n",
              "      <td>0.0</td>\n",
              "      <td>2020-05-15</td>\n",
              "    </tr>\n",
              "    <tr>\n",
              "      <th>5</th>\n",
              "      <td>Texas</td>\n",
              "      <td>2.0</td>\n",
              "      <td>0.0</td>\n",
              "      <td>2020-05-15</td>\n",
              "    </tr>\n",
              "    <tr>\n",
              "      <th>6</th>\n",
              "      <td>Illinois</td>\n",
              "      <td>30.0</td>\n",
              "      <td>4.0</td>\n",
              "      <td>2020-05-15</td>\n",
              "    </tr>\n",
              "    <tr>\n",
              "      <th>7</th>\n",
              "      <td>Tennessee</td>\n",
              "      <td>7.0</td>\n",
              "      <td>0.0</td>\n",
              "      <td>2020-05-15</td>\n",
              "    </tr>\n",
              "    <tr>\n",
              "      <th>8</th>\n",
              "      <td>Washington</td>\n",
              "      <td>21.0</td>\n",
              "      <td>0.0</td>\n",
              "      <td>2020-05-15</td>\n",
              "    </tr>\n",
              "    <tr>\n",
              "      <th>9</th>\n",
              "      <td>Michigan</td>\n",
              "      <td>14.0</td>\n",
              "      <td>2.0</td>\n",
              "      <td>2020-05-15</td>\n",
              "    </tr>\n",
              "  </tbody>\n",
              "</table>\n",
              "</div>\n",
              "    <div class=\"colab-df-buttons\">\n",
              "\n",
              "  <div class=\"colab-df-container\">\n",
              "    <button class=\"colab-df-convert\" onclick=\"convertToInteractive('df-160c1f0e-2d16-4e4b-97fa-91ff1d4667bb')\"\n",
              "            title=\"Convert this dataframe to an interactive table.\"\n",
              "            style=\"display:none;\">\n",
              "\n",
              "  <svg xmlns=\"http://www.w3.org/2000/svg\" height=\"24px\" viewBox=\"0 -960 960 960\">\n",
              "    <path d=\"M120-120v-720h720v720H120Zm60-500h600v-160H180v160Zm220 220h160v-160H400v160Zm0 220h160v-160H400v160ZM180-400h160v-160H180v160Zm440 0h160v-160H620v160ZM180-180h160v-160H180v160Zm440 0h160v-160H620v160Z\"/>\n",
              "  </svg>\n",
              "    </button>\n",
              "\n",
              "  <style>\n",
              "    .colab-df-container {\n",
              "      display:flex;\n",
              "      gap: 12px;\n",
              "    }\n",
              "\n",
              "    .colab-df-convert {\n",
              "      background-color: #E8F0FE;\n",
              "      border: none;\n",
              "      border-radius: 50%;\n",
              "      cursor: pointer;\n",
              "      display: none;\n",
              "      fill: #1967D2;\n",
              "      height: 32px;\n",
              "      padding: 0 0 0 0;\n",
              "      width: 32px;\n",
              "    }\n",
              "\n",
              "    .colab-df-convert:hover {\n",
              "      background-color: #E2EBFA;\n",
              "      box-shadow: 0px 1px 2px rgba(60, 64, 67, 0.3), 0px 1px 3px 1px rgba(60, 64, 67, 0.15);\n",
              "      fill: #174EA6;\n",
              "    }\n",
              "\n",
              "    .colab-df-buttons div {\n",
              "      margin-bottom: 4px;\n",
              "    }\n",
              "\n",
              "    [theme=dark] .colab-df-convert {\n",
              "      background-color: #3B4455;\n",
              "      fill: #D2E3FC;\n",
              "    }\n",
              "\n",
              "    [theme=dark] .colab-df-convert:hover {\n",
              "      background-color: #434B5C;\n",
              "      box-shadow: 0px 1px 3px 1px rgba(0, 0, 0, 0.15);\n",
              "      filter: drop-shadow(0px 1px 2px rgba(0, 0, 0, 0.3));\n",
              "      fill: #FFFFFF;\n",
              "    }\n",
              "  </style>\n",
              "\n",
              "    <script>\n",
              "      const buttonEl =\n",
              "        document.querySelector('#df-160c1f0e-2d16-4e4b-97fa-91ff1d4667bb button.colab-df-convert');\n",
              "      buttonEl.style.display =\n",
              "        google.colab.kernel.accessAllowed ? 'block' : 'none';\n",
              "\n",
              "      async function convertToInteractive(key) {\n",
              "        const element = document.querySelector('#df-160c1f0e-2d16-4e4b-97fa-91ff1d4667bb');\n",
              "        const dataTable =\n",
              "          await google.colab.kernel.invokeFunction('convertToInteractive',\n",
              "                                                    [key], {});\n",
              "        if (!dataTable) return;\n",
              "\n",
              "        const docLinkHtml = 'Like what you see? Visit the ' +\n",
              "          '<a target=\"_blank\" href=https://colab.research.google.com/notebooks/data_table.ipynb>data table notebook</a>'\n",
              "          + ' to learn more about interactive tables.';\n",
              "        element.innerHTML = '';\n",
              "        dataTable['output_type'] = 'display_data';\n",
              "        await google.colab.output.renderOutput(dataTable, element);\n",
              "        const docLink = document.createElement('div');\n",
              "        docLink.innerHTML = docLinkHtml;\n",
              "        element.appendChild(docLink);\n",
              "      }\n",
              "    </script>\n",
              "  </div>\n",
              "\n",
              "\n",
              "<div id=\"df-c4ec0e51-92bd-4b61-89f9-5092a50a8e0d\">\n",
              "  <button class=\"colab-df-quickchart\" onclick=\"quickchart('df-c4ec0e51-92bd-4b61-89f9-5092a50a8e0d')\"\n",
              "            title=\"Suggest charts.\"\n",
              "            style=\"display:none;\">\n",
              "\n",
              "<svg xmlns=\"http://www.w3.org/2000/svg\" height=\"24px\"viewBox=\"0 0 24 24\"\n",
              "     width=\"24px\">\n",
              "    <g>\n",
              "        <path d=\"M19 3H5c-1.1 0-2 .9-2 2v14c0 1.1.9 2 2 2h14c1.1 0 2-.9 2-2V5c0-1.1-.9-2-2-2zM9 17H7v-7h2v7zm4 0h-2V7h2v10zm4 0h-2v-4h2v4z\"/>\n",
              "    </g>\n",
              "</svg>\n",
              "  </button>\n",
              "\n",
              "<style>\n",
              "  .colab-df-quickchart {\n",
              "    background-color: #E8F0FE;\n",
              "    border: none;\n",
              "    border-radius: 50%;\n",
              "    cursor: pointer;\n",
              "    display: none;\n",
              "    fill: #1967D2;\n",
              "    height: 32px;\n",
              "    padding: 0 0 0 0;\n",
              "    width: 32px;\n",
              "  }\n",
              "\n",
              "  .colab-df-quickchart:hover {\n",
              "    background-color: #E2EBFA;\n",
              "    box-shadow: 0px 1px 2px rgba(60, 64, 67, 0.3), 0px 1px 3px 1px rgba(60, 64, 67, 0.15);\n",
              "    fill: #174EA6;\n",
              "  }\n",
              "\n",
              "  [theme=dark] .colab-df-quickchart {\n",
              "    background-color: #3B4455;\n",
              "    fill: #D2E3FC;\n",
              "  }\n",
              "\n",
              "  [theme=dark] .colab-df-quickchart:hover {\n",
              "    background-color: #434B5C;\n",
              "    box-shadow: 0px 1px 3px 1px rgba(0, 0, 0, 0.15);\n",
              "    filter: drop-shadow(0px 1px 2px rgba(0, 0, 0, 0.3));\n",
              "    fill: #FFFFFF;\n",
              "  }\n",
              "</style>\n",
              "\n",
              "  <script>\n",
              "    async function quickchart(key) {\n",
              "      const charts = await google.colab.kernel.invokeFunction(\n",
              "          'suggestCharts', [key], {});\n",
              "    }\n",
              "    (() => {\n",
              "      let quickchartButtonEl =\n",
              "        document.querySelector('#df-c4ec0e51-92bd-4b61-89f9-5092a50a8e0d button');\n",
              "      quickchartButtonEl.style.display =\n",
              "        google.colab.kernel.accessAllowed ? 'block' : 'none';\n",
              "    })();\n",
              "  </script>\n",
              "</div>\n",
              "    </div>\n",
              "  </div>\n"
            ]
          },
          "metadata": {},
          "execution_count": 42
        }
      ],
      "source": [
        "#Menampilkan 10 dataset teratas\n",
        "df.head(10)"
      ]
    },
    {
      "cell_type": "markdown",
      "metadata": {
        "id": "gHV4xJgaqYJU"
      },
      "source": [
        ".head dapat menampilkan data teratas yang kita butuhkan, jadi saya memilih 10 dataset yang ingin saya tampilkan."
      ]
    },
    {
      "cell_type": "code",
      "execution_count": 43,
      "metadata": {
        "colab": {
          "base_uri": "https://localhost:8080/",
          "height": 363
        },
        "id": "g7cL93m7nSd_",
        "outputId": "fe60b617-7de2-477c-afa9-d7711b5ec01c"
      },
      "outputs": [
        {
          "output_type": "execute_result",
          "data": {
            "text/plain": [
              "        province_state  confirmed  deaths        date\n",
              "235701  South Carolina    16897.0   324.0  2022-09-11\n",
              "235702  South Carolina    10066.0   164.0  2022-09-11\n",
              "235703  South Carolina    18279.0   234.0  2022-09-11\n",
              "235704  South Carolina   112096.0   901.0  2022-09-11\n",
              "235705  South Carolina     2516.0    40.0  2022-09-11\n",
              "235706  South Carolina     8791.0   155.0  2022-09-11\n",
              "235707    South Dakota     5076.0    63.0  2022-09-11\n",
              "235708    South Dakota     3708.0    24.0  2022-09-11\n",
              "235709    South Dakota     1000.0    16.0  2022-09-11\n",
              "235710    South Dakota     1675.0    41.0  2022-09-11"
            ],
            "text/html": [
              "\n",
              "  <div id=\"df-a0aec867-653b-4cd5-8c0e-3ceba0616910\" class=\"colab-df-container\">\n",
              "    <div>\n",
              "<style scoped>\n",
              "    .dataframe tbody tr th:only-of-type {\n",
              "        vertical-align: middle;\n",
              "    }\n",
              "\n",
              "    .dataframe tbody tr th {\n",
              "        vertical-align: top;\n",
              "    }\n",
              "\n",
              "    .dataframe thead th {\n",
              "        text-align: right;\n",
              "    }\n",
              "</style>\n",
              "<table border=\"1\" class=\"dataframe\">\n",
              "  <thead>\n",
              "    <tr style=\"text-align: right;\">\n",
              "      <th></th>\n",
              "      <th>province_state</th>\n",
              "      <th>confirmed</th>\n",
              "      <th>deaths</th>\n",
              "      <th>date</th>\n",
              "    </tr>\n",
              "  </thead>\n",
              "  <tbody>\n",
              "    <tr>\n",
              "      <th>235701</th>\n",
              "      <td>South Carolina</td>\n",
              "      <td>16897.0</td>\n",
              "      <td>324.0</td>\n",
              "      <td>2022-09-11</td>\n",
              "    </tr>\n",
              "    <tr>\n",
              "      <th>235702</th>\n",
              "      <td>South Carolina</td>\n",
              "      <td>10066.0</td>\n",
              "      <td>164.0</td>\n",
              "      <td>2022-09-11</td>\n",
              "    </tr>\n",
              "    <tr>\n",
              "      <th>235703</th>\n",
              "      <td>South Carolina</td>\n",
              "      <td>18279.0</td>\n",
              "      <td>234.0</td>\n",
              "      <td>2022-09-11</td>\n",
              "    </tr>\n",
              "    <tr>\n",
              "      <th>235704</th>\n",
              "      <td>South Carolina</td>\n",
              "      <td>112096.0</td>\n",
              "      <td>901.0</td>\n",
              "      <td>2022-09-11</td>\n",
              "    </tr>\n",
              "    <tr>\n",
              "      <th>235705</th>\n",
              "      <td>South Carolina</td>\n",
              "      <td>2516.0</td>\n",
              "      <td>40.0</td>\n",
              "      <td>2022-09-11</td>\n",
              "    </tr>\n",
              "    <tr>\n",
              "      <th>235706</th>\n",
              "      <td>South Carolina</td>\n",
              "      <td>8791.0</td>\n",
              "      <td>155.0</td>\n",
              "      <td>2022-09-11</td>\n",
              "    </tr>\n",
              "    <tr>\n",
              "      <th>235707</th>\n",
              "      <td>South Dakota</td>\n",
              "      <td>5076.0</td>\n",
              "      <td>63.0</td>\n",
              "      <td>2022-09-11</td>\n",
              "    </tr>\n",
              "    <tr>\n",
              "      <th>235708</th>\n",
              "      <td>South Dakota</td>\n",
              "      <td>3708.0</td>\n",
              "      <td>24.0</td>\n",
              "      <td>2022-09-11</td>\n",
              "    </tr>\n",
              "    <tr>\n",
              "      <th>235709</th>\n",
              "      <td>South Dakota</td>\n",
              "      <td>1000.0</td>\n",
              "      <td>16.0</td>\n",
              "      <td>2022-09-11</td>\n",
              "    </tr>\n",
              "    <tr>\n",
              "      <th>235710</th>\n",
              "      <td>South Dakota</td>\n",
              "      <td>1675.0</td>\n",
              "      <td>41.0</td>\n",
              "      <td>2022-09-11</td>\n",
              "    </tr>\n",
              "  </tbody>\n",
              "</table>\n",
              "</div>\n",
              "    <div class=\"colab-df-buttons\">\n",
              "\n",
              "  <div class=\"colab-df-container\">\n",
              "    <button class=\"colab-df-convert\" onclick=\"convertToInteractive('df-a0aec867-653b-4cd5-8c0e-3ceba0616910')\"\n",
              "            title=\"Convert this dataframe to an interactive table.\"\n",
              "            style=\"display:none;\">\n",
              "\n",
              "  <svg xmlns=\"http://www.w3.org/2000/svg\" height=\"24px\" viewBox=\"0 -960 960 960\">\n",
              "    <path d=\"M120-120v-720h720v720H120Zm60-500h600v-160H180v160Zm220 220h160v-160H400v160Zm0 220h160v-160H400v160ZM180-400h160v-160H180v160Zm440 0h160v-160H620v160ZM180-180h160v-160H180v160Zm440 0h160v-160H620v160Z\"/>\n",
              "  </svg>\n",
              "    </button>\n",
              "\n",
              "  <style>\n",
              "    .colab-df-container {\n",
              "      display:flex;\n",
              "      gap: 12px;\n",
              "    }\n",
              "\n",
              "    .colab-df-convert {\n",
              "      background-color: #E8F0FE;\n",
              "      border: none;\n",
              "      border-radius: 50%;\n",
              "      cursor: pointer;\n",
              "      display: none;\n",
              "      fill: #1967D2;\n",
              "      height: 32px;\n",
              "      padding: 0 0 0 0;\n",
              "      width: 32px;\n",
              "    }\n",
              "\n",
              "    .colab-df-convert:hover {\n",
              "      background-color: #E2EBFA;\n",
              "      box-shadow: 0px 1px 2px rgba(60, 64, 67, 0.3), 0px 1px 3px 1px rgba(60, 64, 67, 0.15);\n",
              "      fill: #174EA6;\n",
              "    }\n",
              "\n",
              "    .colab-df-buttons div {\n",
              "      margin-bottom: 4px;\n",
              "    }\n",
              "\n",
              "    [theme=dark] .colab-df-convert {\n",
              "      background-color: #3B4455;\n",
              "      fill: #D2E3FC;\n",
              "    }\n",
              "\n",
              "    [theme=dark] .colab-df-convert:hover {\n",
              "      background-color: #434B5C;\n",
              "      box-shadow: 0px 1px 3px 1px rgba(0, 0, 0, 0.15);\n",
              "      filter: drop-shadow(0px 1px 2px rgba(0, 0, 0, 0.3));\n",
              "      fill: #FFFFFF;\n",
              "    }\n",
              "  </style>\n",
              "\n",
              "    <script>\n",
              "      const buttonEl =\n",
              "        document.querySelector('#df-a0aec867-653b-4cd5-8c0e-3ceba0616910 button.colab-df-convert');\n",
              "      buttonEl.style.display =\n",
              "        google.colab.kernel.accessAllowed ? 'block' : 'none';\n",
              "\n",
              "      async function convertToInteractive(key) {\n",
              "        const element = document.querySelector('#df-a0aec867-653b-4cd5-8c0e-3ceba0616910');\n",
              "        const dataTable =\n",
              "          await google.colab.kernel.invokeFunction('convertToInteractive',\n",
              "                                                    [key], {});\n",
              "        if (!dataTable) return;\n",
              "\n",
              "        const docLinkHtml = 'Like what you see? Visit the ' +\n",
              "          '<a target=\"_blank\" href=https://colab.research.google.com/notebooks/data_table.ipynb>data table notebook</a>'\n",
              "          + ' to learn more about interactive tables.';\n",
              "        element.innerHTML = '';\n",
              "        dataTable['output_type'] = 'display_data';\n",
              "        await google.colab.output.renderOutput(dataTable, element);\n",
              "        const docLink = document.createElement('div');\n",
              "        docLink.innerHTML = docLinkHtml;\n",
              "        element.appendChild(docLink);\n",
              "      }\n",
              "    </script>\n",
              "  </div>\n",
              "\n",
              "\n",
              "<div id=\"df-1772e863-0341-405a-938d-864d58a36667\">\n",
              "  <button class=\"colab-df-quickchart\" onclick=\"quickchart('df-1772e863-0341-405a-938d-864d58a36667')\"\n",
              "            title=\"Suggest charts.\"\n",
              "            style=\"display:none;\">\n",
              "\n",
              "<svg xmlns=\"http://www.w3.org/2000/svg\" height=\"24px\"viewBox=\"0 0 24 24\"\n",
              "     width=\"24px\">\n",
              "    <g>\n",
              "        <path d=\"M19 3H5c-1.1 0-2 .9-2 2v14c0 1.1.9 2 2 2h14c1.1 0 2-.9 2-2V5c0-1.1-.9-2-2-2zM9 17H7v-7h2v7zm4 0h-2V7h2v10zm4 0h-2v-4h2v4z\"/>\n",
              "    </g>\n",
              "</svg>\n",
              "  </button>\n",
              "\n",
              "<style>\n",
              "  .colab-df-quickchart {\n",
              "    background-color: #E8F0FE;\n",
              "    border: none;\n",
              "    border-radius: 50%;\n",
              "    cursor: pointer;\n",
              "    display: none;\n",
              "    fill: #1967D2;\n",
              "    height: 32px;\n",
              "    padding: 0 0 0 0;\n",
              "    width: 32px;\n",
              "  }\n",
              "\n",
              "  .colab-df-quickchart:hover {\n",
              "    background-color: #E2EBFA;\n",
              "    box-shadow: 0px 1px 2px rgba(60, 64, 67, 0.3), 0px 1px 3px 1px rgba(60, 64, 67, 0.15);\n",
              "    fill: #174EA6;\n",
              "  }\n",
              "\n",
              "  [theme=dark] .colab-df-quickchart {\n",
              "    background-color: #3B4455;\n",
              "    fill: #D2E3FC;\n",
              "  }\n",
              "\n",
              "  [theme=dark] .colab-df-quickchart:hover {\n",
              "    background-color: #434B5C;\n",
              "    box-shadow: 0px 1px 3px 1px rgba(0, 0, 0, 0.15);\n",
              "    filter: drop-shadow(0px 1px 2px rgba(0, 0, 0, 0.3));\n",
              "    fill: #FFFFFF;\n",
              "  }\n",
              "</style>\n",
              "\n",
              "  <script>\n",
              "    async function quickchart(key) {\n",
              "      const charts = await google.colab.kernel.invokeFunction(\n",
              "          'suggestCharts', [key], {});\n",
              "    }\n",
              "    (() => {\n",
              "      let quickchartButtonEl =\n",
              "        document.querySelector('#df-1772e863-0341-405a-938d-864d58a36667 button');\n",
              "      quickchartButtonEl.style.display =\n",
              "        google.colab.kernel.accessAllowed ? 'block' : 'none';\n",
              "    })();\n",
              "  </script>\n",
              "</div>\n",
              "    </div>\n",
              "  </div>\n"
            ]
          },
          "metadata": {},
          "execution_count": 43
        }
      ],
      "source": [
        "#Menampilkan data terbawah pada dataset\n",
        "df.tail(10)"
      ]
    },
    {
      "cell_type": "markdown",
      "metadata": {
        "id": "B5OtIYG4qzrV"
      },
      "source": [
        ".tail menampilkan data terbawah dari dataset dan saya memilih melihat 10 data terbawah yaitu terlihat datanya pada tahun 2022"
      ]
    },
    {
      "cell_type": "code",
      "execution_count": 44,
      "metadata": {
        "colab": {
          "base_uri": "https://localhost:8080/"
        },
        "id": "92jufzpPoDZ3",
        "outputId": "54d19182-5edf-473f-8f47-75908c00c0de"
      },
      "outputs": [
        {
          "output_type": "stream",
          "name": "stdout",
          "text": [
            "<class 'pandas.core.frame.DataFrame'>\n",
            "RangeIndex: 235711 entries, 0 to 235710\n",
            "Data columns (total 4 columns):\n",
            " #   Column          Non-Null Count   Dtype  \n",
            "---  ------          --------------   -----  \n",
            " 0   province_state  225079 non-null  object \n",
            " 1   confirmed       235710 non-null  float64\n",
            " 2   deaths          235695 non-null  float64\n",
            " 3   date            235711 non-null  object \n",
            "dtypes: float64(2), object(2)\n",
            "memory usage: 7.2+ MB\n"
          ]
        }
      ],
      "source": [
        "#Menampilkan Karakteristik Dataset\n",
        "df.info()"
      ]
    },
    {
      "cell_type": "markdown",
      "metadata": {
        "id": "PrIIt1eVrzyl"
      },
      "source": [
        "disini kita dapat mengetahui tipe dataset yang kita miliki yaitu ojcet dan float64. Bila dilihat secara overview dataset yang kita gunakan terdapat missing value dimana pada kolom non null jumlahnya tidak sama dengan nilai rangeindex yang artinya ada data yang hilang atau tidak lengkap. Untuk kolom pertama dimana kita melihat dari Kolom ini berisi nama provinsi atau negara bagian di Amerika Serikat di mana kasus COVID-19 tercatat. Misalnya, \"South Carolina\" dan \"South Dakota\". Kalo untuk kolom confirmed kita dapat mengetahui jumlah kasus COVID-19 yang telah dikonfirmasi pada tanggal yang diberikan. Jumlah ini mencakup orang-orang yang telah diuji positif terinfeksi virus. Kalo untuk kolom deaths kita dapat mengetahui jumlah kematian yang terkait dengan COVID-19 pada tanggal tersebut. Jumlah ini mencakup orang-orang yang meninggal akibat komplikasi yang disebabkan oleh virus. Dan untuk kolom date kita bisa mengethaui tanggal laporan data COVID-19. Dalam kasus ini, tanggalnya adalah \"2022-09-11\", yang menunjukkan tanggal 11 September 2022."
      ]
    },
    {
      "cell_type": "markdown",
      "source": [
        "# IV. Data Cleaning"
      ],
      "metadata": {
        "id": "LGPV3CPTczMp"
      }
    },
    {
      "cell_type": "code",
      "source": [
        "#Mengecek data yg terdapat duplikat\n",
        "df.duplicated().sum()"
      ],
      "metadata": {
        "colab": {
          "base_uri": "https://localhost:8080/"
        },
        "id": "qdmMESSNfmNv",
        "outputId": "eada62e9-f275-4f1a-9506-293df39615eb"
      },
      "execution_count": 45,
      "outputs": [
        {
          "output_type": "execute_result",
          "data": {
            "text/plain": [
              "2515"
            ]
          },
          "metadata": {},
          "execution_count": 45
        }
      ]
    },
    {
      "cell_type": "code",
      "source": [
        "# Menghapus data duplikat (menggunakan inplace=True untuk memodifikasi DataFrame)\n",
        "df.drop_duplicates(inplace=True)"
      ],
      "metadata": {
        "id": "oi97gItAhFkS"
      },
      "execution_count": 46,
      "outputs": []
    },
    {
      "cell_type": "code",
      "source": [
        "#Mengecek data yg terdapat duplikat\n",
        "df.duplicated().sum()"
      ],
      "metadata": {
        "colab": {
          "base_uri": "https://localhost:8080/"
        },
        "id": "dVQCjYH7hVay",
        "outputId": "1ffa66d5-27e9-4de7-a989-b74ca65380a3"
      },
      "execution_count": 47,
      "outputs": [
        {
          "output_type": "execute_result",
          "data": {
            "text/plain": [
              "0"
            ]
          },
          "metadata": {},
          "execution_count": 47
        }
      ]
    },
    {
      "cell_type": "code",
      "source": [
        "#Menampilkan Nilai Missing Values pada Dataset\n",
        "df.isnull().sum()"
      ],
      "metadata": {
        "colab": {
          "base_uri": "https://localhost:8080/"
        },
        "id": "dlotbyhYc2eQ",
        "outputId": "dfb01e65-2b0d-49d6-d7af-fe232b9156ad"
      },
      "execution_count": 48,
      "outputs": [
        {
          "output_type": "execute_result",
          "data": {
            "text/plain": [
              "province_state    10585\n",
              "confirmed             1\n",
              "deaths               16\n",
              "date                  0\n",
              "dtype: int64"
            ]
          },
          "metadata": {},
          "execution_count": 48
        }
      ]
    },
    {
      "cell_type": "markdown",
      "source": [
        "Cara mencari missing values pada dataset ini bisa menggunakan df.isnull or df.isna itu sama saja tapi kalo mau liat secara keseluruhan bisa tambahin .sum jadinya kita bisa lihat pada setiap kolom yang missing values itu pada province_state sebanyak 10632, confirmed ada 1 dan deaths ada 16."
      ],
      "metadata": {
        "id": "wQfCSg5ZdDYm"
      }
    },
    {
      "cell_type": "code",
      "source": [
        "#Menangani Missing Value\n",
        "df.dropna()"
      ],
      "metadata": {
        "colab": {
          "base_uri": "https://localhost:8080/",
          "height": 424
        },
        "id": "XVjt3u33dI8y",
        "outputId": "21c0fc3a-3f35-47d5-8b5e-e6c78a371217"
      },
      "execution_count": 49,
      "outputs": [
        {
          "output_type": "execute_result",
          "data": {
            "text/plain": [
              "        province_state  confirmed  deaths        date\n",
              "0               Kansas        3.0     0.0  2020-05-15\n",
              "1            Tennessee       88.0     0.0  2020-05-15\n",
              "2              Georgia      695.0    23.0  2020-05-15\n",
              "3             Nebraska        1.0     0.0  2020-05-15\n",
              "4             Nebraska        8.0     0.0  2020-05-15\n",
              "...                ...        ...     ...         ...\n",
              "235706  South Carolina     8791.0   155.0  2022-09-11\n",
              "235707    South Dakota     5076.0    63.0  2022-09-11\n",
              "235708    South Dakota     3708.0    24.0  2022-09-11\n",
              "235709    South Dakota     1000.0    16.0  2022-09-11\n",
              "235710    South Dakota     1675.0    41.0  2022-09-11\n",
              "\n",
              "[222597 rows x 4 columns]"
            ],
            "text/html": [
              "\n",
              "  <div id=\"df-a5bb4a22-e38c-4faa-b8c8-0162329d616a\" class=\"colab-df-container\">\n",
              "    <div>\n",
              "<style scoped>\n",
              "    .dataframe tbody tr th:only-of-type {\n",
              "        vertical-align: middle;\n",
              "    }\n",
              "\n",
              "    .dataframe tbody tr th {\n",
              "        vertical-align: top;\n",
              "    }\n",
              "\n",
              "    .dataframe thead th {\n",
              "        text-align: right;\n",
              "    }\n",
              "</style>\n",
              "<table border=\"1\" class=\"dataframe\">\n",
              "  <thead>\n",
              "    <tr style=\"text-align: right;\">\n",
              "      <th></th>\n",
              "      <th>province_state</th>\n",
              "      <th>confirmed</th>\n",
              "      <th>deaths</th>\n",
              "      <th>date</th>\n",
              "    </tr>\n",
              "  </thead>\n",
              "  <tbody>\n",
              "    <tr>\n",
              "      <th>0</th>\n",
              "      <td>Kansas</td>\n",
              "      <td>3.0</td>\n",
              "      <td>0.0</td>\n",
              "      <td>2020-05-15</td>\n",
              "    </tr>\n",
              "    <tr>\n",
              "      <th>1</th>\n",
              "      <td>Tennessee</td>\n",
              "      <td>88.0</td>\n",
              "      <td>0.0</td>\n",
              "      <td>2020-05-15</td>\n",
              "    </tr>\n",
              "    <tr>\n",
              "      <th>2</th>\n",
              "      <td>Georgia</td>\n",
              "      <td>695.0</td>\n",
              "      <td>23.0</td>\n",
              "      <td>2020-05-15</td>\n",
              "    </tr>\n",
              "    <tr>\n",
              "      <th>3</th>\n",
              "      <td>Nebraska</td>\n",
              "      <td>1.0</td>\n",
              "      <td>0.0</td>\n",
              "      <td>2020-05-15</td>\n",
              "    </tr>\n",
              "    <tr>\n",
              "      <th>4</th>\n",
              "      <td>Nebraska</td>\n",
              "      <td>8.0</td>\n",
              "      <td>0.0</td>\n",
              "      <td>2020-05-15</td>\n",
              "    </tr>\n",
              "    <tr>\n",
              "      <th>...</th>\n",
              "      <td>...</td>\n",
              "      <td>...</td>\n",
              "      <td>...</td>\n",
              "      <td>...</td>\n",
              "    </tr>\n",
              "    <tr>\n",
              "      <th>235706</th>\n",
              "      <td>South Carolina</td>\n",
              "      <td>8791.0</td>\n",
              "      <td>155.0</td>\n",
              "      <td>2022-09-11</td>\n",
              "    </tr>\n",
              "    <tr>\n",
              "      <th>235707</th>\n",
              "      <td>South Dakota</td>\n",
              "      <td>5076.0</td>\n",
              "      <td>63.0</td>\n",
              "      <td>2022-09-11</td>\n",
              "    </tr>\n",
              "    <tr>\n",
              "      <th>235708</th>\n",
              "      <td>South Dakota</td>\n",
              "      <td>3708.0</td>\n",
              "      <td>24.0</td>\n",
              "      <td>2022-09-11</td>\n",
              "    </tr>\n",
              "    <tr>\n",
              "      <th>235709</th>\n",
              "      <td>South Dakota</td>\n",
              "      <td>1000.0</td>\n",
              "      <td>16.0</td>\n",
              "      <td>2022-09-11</td>\n",
              "    </tr>\n",
              "    <tr>\n",
              "      <th>235710</th>\n",
              "      <td>South Dakota</td>\n",
              "      <td>1675.0</td>\n",
              "      <td>41.0</td>\n",
              "      <td>2022-09-11</td>\n",
              "    </tr>\n",
              "  </tbody>\n",
              "</table>\n",
              "<p>222597 rows × 4 columns</p>\n",
              "</div>\n",
              "    <div class=\"colab-df-buttons\">\n",
              "\n",
              "  <div class=\"colab-df-container\">\n",
              "    <button class=\"colab-df-convert\" onclick=\"convertToInteractive('df-a5bb4a22-e38c-4faa-b8c8-0162329d616a')\"\n",
              "            title=\"Convert this dataframe to an interactive table.\"\n",
              "            style=\"display:none;\">\n",
              "\n",
              "  <svg xmlns=\"http://www.w3.org/2000/svg\" height=\"24px\" viewBox=\"0 -960 960 960\">\n",
              "    <path d=\"M120-120v-720h720v720H120Zm60-500h600v-160H180v160Zm220 220h160v-160H400v160Zm0 220h160v-160H400v160ZM180-400h160v-160H180v160Zm440 0h160v-160H620v160ZM180-180h160v-160H180v160Zm440 0h160v-160H620v160Z\"/>\n",
              "  </svg>\n",
              "    </button>\n",
              "\n",
              "  <style>\n",
              "    .colab-df-container {\n",
              "      display:flex;\n",
              "      gap: 12px;\n",
              "    }\n",
              "\n",
              "    .colab-df-convert {\n",
              "      background-color: #E8F0FE;\n",
              "      border: none;\n",
              "      border-radius: 50%;\n",
              "      cursor: pointer;\n",
              "      display: none;\n",
              "      fill: #1967D2;\n",
              "      height: 32px;\n",
              "      padding: 0 0 0 0;\n",
              "      width: 32px;\n",
              "    }\n",
              "\n",
              "    .colab-df-convert:hover {\n",
              "      background-color: #E2EBFA;\n",
              "      box-shadow: 0px 1px 2px rgba(60, 64, 67, 0.3), 0px 1px 3px 1px rgba(60, 64, 67, 0.15);\n",
              "      fill: #174EA6;\n",
              "    }\n",
              "\n",
              "    .colab-df-buttons div {\n",
              "      margin-bottom: 4px;\n",
              "    }\n",
              "\n",
              "    [theme=dark] .colab-df-convert {\n",
              "      background-color: #3B4455;\n",
              "      fill: #D2E3FC;\n",
              "    }\n",
              "\n",
              "    [theme=dark] .colab-df-convert:hover {\n",
              "      background-color: #434B5C;\n",
              "      box-shadow: 0px 1px 3px 1px rgba(0, 0, 0, 0.15);\n",
              "      filter: drop-shadow(0px 1px 2px rgba(0, 0, 0, 0.3));\n",
              "      fill: #FFFFFF;\n",
              "    }\n",
              "  </style>\n",
              "\n",
              "    <script>\n",
              "      const buttonEl =\n",
              "        document.querySelector('#df-a5bb4a22-e38c-4faa-b8c8-0162329d616a button.colab-df-convert');\n",
              "      buttonEl.style.display =\n",
              "        google.colab.kernel.accessAllowed ? 'block' : 'none';\n",
              "\n",
              "      async function convertToInteractive(key) {\n",
              "        const element = document.querySelector('#df-a5bb4a22-e38c-4faa-b8c8-0162329d616a');\n",
              "        const dataTable =\n",
              "          await google.colab.kernel.invokeFunction('convertToInteractive',\n",
              "                                                    [key], {});\n",
              "        if (!dataTable) return;\n",
              "\n",
              "        const docLinkHtml = 'Like what you see? Visit the ' +\n",
              "          '<a target=\"_blank\" href=https://colab.research.google.com/notebooks/data_table.ipynb>data table notebook</a>'\n",
              "          + ' to learn more about interactive tables.';\n",
              "        element.innerHTML = '';\n",
              "        dataTable['output_type'] = 'display_data';\n",
              "        await google.colab.output.renderOutput(dataTable, element);\n",
              "        const docLink = document.createElement('div');\n",
              "        docLink.innerHTML = docLinkHtml;\n",
              "        element.appendChild(docLink);\n",
              "      }\n",
              "    </script>\n",
              "  </div>\n",
              "\n",
              "\n",
              "<div id=\"df-33a0ba61-6bf9-4c45-bfeb-6cfbbab1c18d\">\n",
              "  <button class=\"colab-df-quickchart\" onclick=\"quickchart('df-33a0ba61-6bf9-4c45-bfeb-6cfbbab1c18d')\"\n",
              "            title=\"Suggest charts.\"\n",
              "            style=\"display:none;\">\n",
              "\n",
              "<svg xmlns=\"http://www.w3.org/2000/svg\" height=\"24px\"viewBox=\"0 0 24 24\"\n",
              "     width=\"24px\">\n",
              "    <g>\n",
              "        <path d=\"M19 3H5c-1.1 0-2 .9-2 2v14c0 1.1.9 2 2 2h14c1.1 0 2-.9 2-2V5c0-1.1-.9-2-2-2zM9 17H7v-7h2v7zm4 0h-2V7h2v10zm4 0h-2v-4h2v4z\"/>\n",
              "    </g>\n",
              "</svg>\n",
              "  </button>\n",
              "\n",
              "<style>\n",
              "  .colab-df-quickchart {\n",
              "    background-color: #E8F0FE;\n",
              "    border: none;\n",
              "    border-radius: 50%;\n",
              "    cursor: pointer;\n",
              "    display: none;\n",
              "    fill: #1967D2;\n",
              "    height: 32px;\n",
              "    padding: 0 0 0 0;\n",
              "    width: 32px;\n",
              "  }\n",
              "\n",
              "  .colab-df-quickchart:hover {\n",
              "    background-color: #E2EBFA;\n",
              "    box-shadow: 0px 1px 2px rgba(60, 64, 67, 0.3), 0px 1px 3px 1px rgba(60, 64, 67, 0.15);\n",
              "    fill: #174EA6;\n",
              "  }\n",
              "\n",
              "  [theme=dark] .colab-df-quickchart {\n",
              "    background-color: #3B4455;\n",
              "    fill: #D2E3FC;\n",
              "  }\n",
              "\n",
              "  [theme=dark] .colab-df-quickchart:hover {\n",
              "    background-color: #434B5C;\n",
              "    box-shadow: 0px 1px 3px 1px rgba(0, 0, 0, 0.15);\n",
              "    filter: drop-shadow(0px 1px 2px rgba(0, 0, 0, 0.3));\n",
              "    fill: #FFFFFF;\n",
              "  }\n",
              "</style>\n",
              "\n",
              "  <script>\n",
              "    async function quickchart(key) {\n",
              "      const charts = await google.colab.kernel.invokeFunction(\n",
              "          'suggestCharts', [key], {});\n",
              "    }\n",
              "    (() => {\n",
              "      let quickchartButtonEl =\n",
              "        document.querySelector('#df-33a0ba61-6bf9-4c45-bfeb-6cfbbab1c18d button');\n",
              "      quickchartButtonEl.style.display =\n",
              "        google.colab.kernel.accessAllowed ? 'block' : 'none';\n",
              "    })();\n",
              "  </script>\n",
              "</div>\n",
              "    </div>\n",
              "  </div>\n"
            ]
          },
          "metadata": {},
          "execution_count": 49
        }
      ]
    },
    {
      "cell_type": "code",
      "source": [
        "aa = df.dropna()"
      ],
      "metadata": {
        "id": "2oI0GODqe6SI"
      },
      "execution_count": 50,
      "outputs": []
    },
    {
      "cell_type": "code",
      "source": [
        "#Menampilkan Nilai Missing Values pada Dataset\n",
        "aa.isnull().sum()"
      ],
      "metadata": {
        "colab": {
          "base_uri": "https://localhost:8080/"
        },
        "id": "OIGrUg-Jew4F",
        "outputId": "2affb84f-b490-4d70-edcc-5ea6df65ef49"
      },
      "execution_count": 51,
      "outputs": [
        {
          "output_type": "execute_result",
          "data": {
            "text/plain": [
              "province_state    0\n",
              "confirmed         0\n",
              "deaths            0\n",
              "date              0\n",
              "dtype: int64"
            ]
          },
          "metadata": {},
          "execution_count": 51
        }
      ]
    },
    {
      "cell_type": "markdown",
      "source": [
        "Bila ingin menggunakan fungsi dropna itu harus mengubah nama dataframe agar nilai missing value dapat di handle"
      ],
      "metadata": {
        "id": "n1_W2Blre_uX"
      }
    },
    {
      "cell_type": "code",
      "execution_count": 52,
      "metadata": {
        "colab": {
          "base_uri": "https://localhost:8080/",
          "height": 301
        },
        "id": "40qMqueqpm4s",
        "outputId": "9c66a797-b3a1-42ae-dc91-b93a969de2fc"
      },
      "outputs": [
        {
          "output_type": "execute_result",
          "data": {
            "text/plain": [
              "          confirmed         deaths\n",
              "count  2.225970e+05  222597.000000\n",
              "mean   4.868129e+04     731.728536\n",
              "std    2.921771e+05    4321.321590\n",
              "min    0.000000e+00       0.000000\n",
              "25%    8.410000e+02      11.000000\n",
              "50%    3.611000e+03      56.000000\n",
              "75%    1.443100e+04     201.000000\n",
              "max    2.035023e+07  180570.000000"
            ],
            "text/html": [
              "\n",
              "  <div id=\"df-b7949899-f7d4-442e-a708-bdb7ab198049\" class=\"colab-df-container\">\n",
              "    <div>\n",
              "<style scoped>\n",
              "    .dataframe tbody tr th:only-of-type {\n",
              "        vertical-align: middle;\n",
              "    }\n",
              "\n",
              "    .dataframe tbody tr th {\n",
              "        vertical-align: top;\n",
              "    }\n",
              "\n",
              "    .dataframe thead th {\n",
              "        text-align: right;\n",
              "    }\n",
              "</style>\n",
              "<table border=\"1\" class=\"dataframe\">\n",
              "  <thead>\n",
              "    <tr style=\"text-align: right;\">\n",
              "      <th></th>\n",
              "      <th>confirmed</th>\n",
              "      <th>deaths</th>\n",
              "    </tr>\n",
              "  </thead>\n",
              "  <tbody>\n",
              "    <tr>\n",
              "      <th>count</th>\n",
              "      <td>2.225970e+05</td>\n",
              "      <td>222597.000000</td>\n",
              "    </tr>\n",
              "    <tr>\n",
              "      <th>mean</th>\n",
              "      <td>4.868129e+04</td>\n",
              "      <td>731.728536</td>\n",
              "    </tr>\n",
              "    <tr>\n",
              "      <th>std</th>\n",
              "      <td>2.921771e+05</td>\n",
              "      <td>4321.321590</td>\n",
              "    </tr>\n",
              "    <tr>\n",
              "      <th>min</th>\n",
              "      <td>0.000000e+00</td>\n",
              "      <td>0.000000</td>\n",
              "    </tr>\n",
              "    <tr>\n",
              "      <th>25%</th>\n",
              "      <td>8.410000e+02</td>\n",
              "      <td>11.000000</td>\n",
              "    </tr>\n",
              "    <tr>\n",
              "      <th>50%</th>\n",
              "      <td>3.611000e+03</td>\n",
              "      <td>56.000000</td>\n",
              "    </tr>\n",
              "    <tr>\n",
              "      <th>75%</th>\n",
              "      <td>1.443100e+04</td>\n",
              "      <td>201.000000</td>\n",
              "    </tr>\n",
              "    <tr>\n",
              "      <th>max</th>\n",
              "      <td>2.035023e+07</td>\n",
              "      <td>180570.000000</td>\n",
              "    </tr>\n",
              "  </tbody>\n",
              "</table>\n",
              "</div>\n",
              "    <div class=\"colab-df-buttons\">\n",
              "\n",
              "  <div class=\"colab-df-container\">\n",
              "    <button class=\"colab-df-convert\" onclick=\"convertToInteractive('df-b7949899-f7d4-442e-a708-bdb7ab198049')\"\n",
              "            title=\"Convert this dataframe to an interactive table.\"\n",
              "            style=\"display:none;\">\n",
              "\n",
              "  <svg xmlns=\"http://www.w3.org/2000/svg\" height=\"24px\" viewBox=\"0 -960 960 960\">\n",
              "    <path d=\"M120-120v-720h720v720H120Zm60-500h600v-160H180v160Zm220 220h160v-160H400v160Zm0 220h160v-160H400v160ZM180-400h160v-160H180v160Zm440 0h160v-160H620v160ZM180-180h160v-160H180v160Zm440 0h160v-160H620v160Z\"/>\n",
              "  </svg>\n",
              "    </button>\n",
              "\n",
              "  <style>\n",
              "    .colab-df-container {\n",
              "      display:flex;\n",
              "      gap: 12px;\n",
              "    }\n",
              "\n",
              "    .colab-df-convert {\n",
              "      background-color: #E8F0FE;\n",
              "      border: none;\n",
              "      border-radius: 50%;\n",
              "      cursor: pointer;\n",
              "      display: none;\n",
              "      fill: #1967D2;\n",
              "      height: 32px;\n",
              "      padding: 0 0 0 0;\n",
              "      width: 32px;\n",
              "    }\n",
              "\n",
              "    .colab-df-convert:hover {\n",
              "      background-color: #E2EBFA;\n",
              "      box-shadow: 0px 1px 2px rgba(60, 64, 67, 0.3), 0px 1px 3px 1px rgba(60, 64, 67, 0.15);\n",
              "      fill: #174EA6;\n",
              "    }\n",
              "\n",
              "    .colab-df-buttons div {\n",
              "      margin-bottom: 4px;\n",
              "    }\n",
              "\n",
              "    [theme=dark] .colab-df-convert {\n",
              "      background-color: #3B4455;\n",
              "      fill: #D2E3FC;\n",
              "    }\n",
              "\n",
              "    [theme=dark] .colab-df-convert:hover {\n",
              "      background-color: #434B5C;\n",
              "      box-shadow: 0px 1px 3px 1px rgba(0, 0, 0, 0.15);\n",
              "      filter: drop-shadow(0px 1px 2px rgba(0, 0, 0, 0.3));\n",
              "      fill: #FFFFFF;\n",
              "    }\n",
              "  </style>\n",
              "\n",
              "    <script>\n",
              "      const buttonEl =\n",
              "        document.querySelector('#df-b7949899-f7d4-442e-a708-bdb7ab198049 button.colab-df-convert');\n",
              "      buttonEl.style.display =\n",
              "        google.colab.kernel.accessAllowed ? 'block' : 'none';\n",
              "\n",
              "      async function convertToInteractive(key) {\n",
              "        const element = document.querySelector('#df-b7949899-f7d4-442e-a708-bdb7ab198049');\n",
              "        const dataTable =\n",
              "          await google.colab.kernel.invokeFunction('convertToInteractive',\n",
              "                                                    [key], {});\n",
              "        if (!dataTable) return;\n",
              "\n",
              "        const docLinkHtml = 'Like what you see? Visit the ' +\n",
              "          '<a target=\"_blank\" href=https://colab.research.google.com/notebooks/data_table.ipynb>data table notebook</a>'\n",
              "          + ' to learn more about interactive tables.';\n",
              "        element.innerHTML = '';\n",
              "        dataTable['output_type'] = 'display_data';\n",
              "        await google.colab.output.renderOutput(dataTable, element);\n",
              "        const docLink = document.createElement('div');\n",
              "        docLink.innerHTML = docLinkHtml;\n",
              "        element.appendChild(docLink);\n",
              "      }\n",
              "    </script>\n",
              "  </div>\n",
              "\n",
              "\n",
              "<div id=\"df-21e923e4-7442-4f74-8239-45eed77805a8\">\n",
              "  <button class=\"colab-df-quickchart\" onclick=\"quickchart('df-21e923e4-7442-4f74-8239-45eed77805a8')\"\n",
              "            title=\"Suggest charts.\"\n",
              "            style=\"display:none;\">\n",
              "\n",
              "<svg xmlns=\"http://www.w3.org/2000/svg\" height=\"24px\"viewBox=\"0 0 24 24\"\n",
              "     width=\"24px\">\n",
              "    <g>\n",
              "        <path d=\"M19 3H5c-1.1 0-2 .9-2 2v14c0 1.1.9 2 2 2h14c1.1 0 2-.9 2-2V5c0-1.1-.9-2-2-2zM9 17H7v-7h2v7zm4 0h-2V7h2v10zm4 0h-2v-4h2v4z\"/>\n",
              "    </g>\n",
              "</svg>\n",
              "  </button>\n",
              "\n",
              "<style>\n",
              "  .colab-df-quickchart {\n",
              "    background-color: #E8F0FE;\n",
              "    border: none;\n",
              "    border-radius: 50%;\n",
              "    cursor: pointer;\n",
              "    display: none;\n",
              "    fill: #1967D2;\n",
              "    height: 32px;\n",
              "    padding: 0 0 0 0;\n",
              "    width: 32px;\n",
              "  }\n",
              "\n",
              "  .colab-df-quickchart:hover {\n",
              "    background-color: #E2EBFA;\n",
              "    box-shadow: 0px 1px 2px rgba(60, 64, 67, 0.3), 0px 1px 3px 1px rgba(60, 64, 67, 0.15);\n",
              "    fill: #174EA6;\n",
              "  }\n",
              "\n",
              "  [theme=dark] .colab-df-quickchart {\n",
              "    background-color: #3B4455;\n",
              "    fill: #D2E3FC;\n",
              "  }\n",
              "\n",
              "  [theme=dark] .colab-df-quickchart:hover {\n",
              "    background-color: #434B5C;\n",
              "    box-shadow: 0px 1px 3px 1px rgba(0, 0, 0, 0.15);\n",
              "    filter: drop-shadow(0px 1px 2px rgba(0, 0, 0, 0.3));\n",
              "    fill: #FFFFFF;\n",
              "  }\n",
              "</style>\n",
              "\n",
              "  <script>\n",
              "    async function quickchart(key) {\n",
              "      const charts = await google.colab.kernel.invokeFunction(\n",
              "          'suggestCharts', [key], {});\n",
              "    }\n",
              "    (() => {\n",
              "      let quickchartButtonEl =\n",
              "        document.querySelector('#df-21e923e4-7442-4f74-8239-45eed77805a8 button');\n",
              "      quickchartButtonEl.style.display =\n",
              "        google.colab.kernel.accessAllowed ? 'block' : 'none';\n",
              "    })();\n",
              "  </script>\n",
              "</div>\n",
              "    </div>\n",
              "  </div>\n"
            ]
          },
          "metadata": {},
          "execution_count": 52
        }
      ],
      "source": [
        "#Tampilan Statistik Dasar\n",
        "aa.describe()"
      ]
    },
    {
      "cell_type": "markdown",
      "metadata": {
        "id": "6gv5FzV6bHpn"
      },
      "source": [
        "Pada penggunaan .describe kita dapat melihat hasil output yang dihasilkan berupa penjumlahan yang sama seperti saat kita menggunakan excel. Datanya berupa count dimana hasil dari jumlah keseluruhan yang terkena dampak covid sejumlah 235710 orang dan yang telah meninggal akibat dampak covid sebesar 235695. Karena .describe juga bisa menggunkan transpose kalo misalnya dataset memiliki jumlah kolom yang sangat banyak."
      ]
    },
    {
      "cell_type": "code",
      "execution_count": 53,
      "metadata": {
        "colab": {
          "base_uri": "https://localhost:8080/"
        },
        "id": "-5QT8cJMe-KV",
        "outputId": "9e7326bb-4e55-435f-8a9b-d89ba8a0307d"
      },
      "outputs": [
        {
          "output_type": "execute_result",
          "data": {
            "text/plain": [
              "Int64Index([     0,      1,      2,      3,      4,      5,      6,      7,\n",
              "                 8,      9,\n",
              "            ...\n",
              "            235701, 235702, 235703, 235704, 235705, 235706, 235707, 235708,\n",
              "            235709, 235710],\n",
              "           dtype='int64', length=222597)"
            ]
          },
          "metadata": {},
          "execution_count": 53
        }
      ],
      "source": [
        "aa.index"
      ]
    },
    {
      "cell_type": "markdown",
      "metadata": {
        "id": "o5rRMCX3fJBL"
      },
      "source": [
        ".index ini akan menjelaskan kolomnya dari tabel tersebut mulai dari mana sampai mana"
      ]
    },
    {
      "cell_type": "markdown",
      "source": [
        "# V. Explorasi Data"
      ],
      "metadata": {
        "id": "aCBqvCHVoKGr"
      }
    },
    {
      "cell_type": "code",
      "execution_count": 55,
      "metadata": {
        "id": "kTkC9SYtyCeF"
      },
      "outputs": [],
      "source": [
        "#Query Tahun\n",
        "current_decade = aa[aa[\"date\"] > '2021']"
      ]
    },
    {
      "cell_type": "markdown",
      "metadata": {
        "id": "Bb-eBuLE3EIB"
      },
      "source": [
        "query tahun yang lebih dari 2021 saja menggunkan current_decade. jadi data yang akan terbaca atau kita olah nantinya itu tahun 2022"
      ]
    },
    {
      "cell_type": "code",
      "execution_count": 56,
      "metadata": {
        "colab": {
          "base_uri": "https://localhost:8080/",
          "height": 424
        },
        "id": "iicwFX6EvNkb",
        "outputId": "cd769f04-3282-48c1-f4c0-b62864da792b"
      },
      "outputs": [
        {
          "output_type": "execute_result",
          "data": {
            "text/plain": [
              "       province_state  confirmed  deaths        date\n",
              "2013     South Dakota    10095.0   115.0  2022-02-16\n",
              "2019     South Dakota    56573.0   489.0  2022-02-16\n",
              "2575     South Dakota    13815.0   198.0  2021-05-26\n",
              "4767     South Dakota    16028.0   102.0  2022-07-14\n",
              "5330     South Dakota    16618.0   105.0  2022-10-03\n",
              "...               ...        ...     ...         ...\n",
              "225336   South Dakota    11718.0   142.0  2021-01-08\n",
              "227535   South Dakota    31579.0   356.0  2021-05-12\n",
              "229234   South Dakota    11205.0   124.0  2022-10-04\n",
              "229236   South Dakota     9618.0   103.0  2022-10-04\n",
              "231469   South Dakota    37885.0   369.0  2022-12-24\n",
              "\n",
              "[151 rows x 4 columns]"
            ],
            "text/html": [
              "\n",
              "  <div id=\"df-83f4f07d-791f-4dff-8158-e590ddf280a7\" class=\"colab-df-container\">\n",
              "    <div>\n",
              "<style scoped>\n",
              "    .dataframe tbody tr th:only-of-type {\n",
              "        vertical-align: middle;\n",
              "    }\n",
              "\n",
              "    .dataframe tbody tr th {\n",
              "        vertical-align: top;\n",
              "    }\n",
              "\n",
              "    .dataframe thead th {\n",
              "        text-align: right;\n",
              "    }\n",
              "</style>\n",
              "<table border=\"1\" class=\"dataframe\">\n",
              "  <thead>\n",
              "    <tr style=\"text-align: right;\">\n",
              "      <th></th>\n",
              "      <th>province_state</th>\n",
              "      <th>confirmed</th>\n",
              "      <th>deaths</th>\n",
              "      <th>date</th>\n",
              "    </tr>\n",
              "  </thead>\n",
              "  <tbody>\n",
              "    <tr>\n",
              "      <th>2013</th>\n",
              "      <td>South Dakota</td>\n",
              "      <td>10095.0</td>\n",
              "      <td>115.0</td>\n",
              "      <td>2022-02-16</td>\n",
              "    </tr>\n",
              "    <tr>\n",
              "      <th>2019</th>\n",
              "      <td>South Dakota</td>\n",
              "      <td>56573.0</td>\n",
              "      <td>489.0</td>\n",
              "      <td>2022-02-16</td>\n",
              "    </tr>\n",
              "    <tr>\n",
              "      <th>2575</th>\n",
              "      <td>South Dakota</td>\n",
              "      <td>13815.0</td>\n",
              "      <td>198.0</td>\n",
              "      <td>2021-05-26</td>\n",
              "    </tr>\n",
              "    <tr>\n",
              "      <th>4767</th>\n",
              "      <td>South Dakota</td>\n",
              "      <td>16028.0</td>\n",
              "      <td>102.0</td>\n",
              "      <td>2022-07-14</td>\n",
              "    </tr>\n",
              "    <tr>\n",
              "      <th>5330</th>\n",
              "      <td>South Dakota</td>\n",
              "      <td>16618.0</td>\n",
              "      <td>105.0</td>\n",
              "      <td>2022-10-03</td>\n",
              "    </tr>\n",
              "    <tr>\n",
              "      <th>...</th>\n",
              "      <td>...</td>\n",
              "      <td>...</td>\n",
              "      <td>...</td>\n",
              "      <td>...</td>\n",
              "    </tr>\n",
              "    <tr>\n",
              "      <th>225336</th>\n",
              "      <td>South Dakota</td>\n",
              "      <td>11718.0</td>\n",
              "      <td>142.0</td>\n",
              "      <td>2021-01-08</td>\n",
              "    </tr>\n",
              "    <tr>\n",
              "      <th>227535</th>\n",
              "      <td>South Dakota</td>\n",
              "      <td>31579.0</td>\n",
              "      <td>356.0</td>\n",
              "      <td>2021-05-12</td>\n",
              "    </tr>\n",
              "    <tr>\n",
              "      <th>229234</th>\n",
              "      <td>South Dakota</td>\n",
              "      <td>11205.0</td>\n",
              "      <td>124.0</td>\n",
              "      <td>2022-10-04</td>\n",
              "    </tr>\n",
              "    <tr>\n",
              "      <th>229236</th>\n",
              "      <td>South Dakota</td>\n",
              "      <td>9618.0</td>\n",
              "      <td>103.0</td>\n",
              "      <td>2022-10-04</td>\n",
              "    </tr>\n",
              "    <tr>\n",
              "      <th>231469</th>\n",
              "      <td>South Dakota</td>\n",
              "      <td>37885.0</td>\n",
              "      <td>369.0</td>\n",
              "      <td>2022-12-24</td>\n",
              "    </tr>\n",
              "  </tbody>\n",
              "</table>\n",
              "<p>151 rows × 4 columns</p>\n",
              "</div>\n",
              "    <div class=\"colab-df-buttons\">\n",
              "\n",
              "  <div class=\"colab-df-container\">\n",
              "    <button class=\"colab-df-convert\" onclick=\"convertToInteractive('df-83f4f07d-791f-4dff-8158-e590ddf280a7')\"\n",
              "            title=\"Convert this dataframe to an interactive table.\"\n",
              "            style=\"display:none;\">\n",
              "\n",
              "  <svg xmlns=\"http://www.w3.org/2000/svg\" height=\"24px\" viewBox=\"0 -960 960 960\">\n",
              "    <path d=\"M120-120v-720h720v720H120Zm60-500h600v-160H180v160Zm220 220h160v-160H400v160Zm0 220h160v-160H400v160ZM180-400h160v-160H180v160Zm440 0h160v-160H620v160ZM180-180h160v-160H180v160Zm440 0h160v-160H620v160Z\"/>\n",
              "  </svg>\n",
              "    </button>\n",
              "\n",
              "  <style>\n",
              "    .colab-df-container {\n",
              "      display:flex;\n",
              "      gap: 12px;\n",
              "    }\n",
              "\n",
              "    .colab-df-convert {\n",
              "      background-color: #E8F0FE;\n",
              "      border: none;\n",
              "      border-radius: 50%;\n",
              "      cursor: pointer;\n",
              "      display: none;\n",
              "      fill: #1967D2;\n",
              "      height: 32px;\n",
              "      padding: 0 0 0 0;\n",
              "      width: 32px;\n",
              "    }\n",
              "\n",
              "    .colab-df-convert:hover {\n",
              "      background-color: #E2EBFA;\n",
              "      box-shadow: 0px 1px 2px rgba(60, 64, 67, 0.3), 0px 1px 3px 1px rgba(60, 64, 67, 0.15);\n",
              "      fill: #174EA6;\n",
              "    }\n",
              "\n",
              "    .colab-df-buttons div {\n",
              "      margin-bottom: 4px;\n",
              "    }\n",
              "\n",
              "    [theme=dark] .colab-df-convert {\n",
              "      background-color: #3B4455;\n",
              "      fill: #D2E3FC;\n",
              "    }\n",
              "\n",
              "    [theme=dark] .colab-df-convert:hover {\n",
              "      background-color: #434B5C;\n",
              "      box-shadow: 0px 1px 3px 1px rgba(0, 0, 0, 0.15);\n",
              "      filter: drop-shadow(0px 1px 2px rgba(0, 0, 0, 0.3));\n",
              "      fill: #FFFFFF;\n",
              "    }\n",
              "  </style>\n",
              "\n",
              "    <script>\n",
              "      const buttonEl =\n",
              "        document.querySelector('#df-83f4f07d-791f-4dff-8158-e590ddf280a7 button.colab-df-convert');\n",
              "      buttonEl.style.display =\n",
              "        google.colab.kernel.accessAllowed ? 'block' : 'none';\n",
              "\n",
              "      async function convertToInteractive(key) {\n",
              "        const element = document.querySelector('#df-83f4f07d-791f-4dff-8158-e590ddf280a7');\n",
              "        const dataTable =\n",
              "          await google.colab.kernel.invokeFunction('convertToInteractive',\n",
              "                                                    [key], {});\n",
              "        if (!dataTable) return;\n",
              "\n",
              "        const docLinkHtml = 'Like what you see? Visit the ' +\n",
              "          '<a target=\"_blank\" href=https://colab.research.google.com/notebooks/data_table.ipynb>data table notebook</a>'\n",
              "          + ' to learn more about interactive tables.';\n",
              "        element.innerHTML = '';\n",
              "        dataTable['output_type'] = 'display_data';\n",
              "        await google.colab.output.renderOutput(dataTable, element);\n",
              "        const docLink = document.createElement('div');\n",
              "        docLink.innerHTML = docLinkHtml;\n",
              "        element.appendChild(docLink);\n",
              "      }\n",
              "    </script>\n",
              "  </div>\n",
              "\n",
              "\n",
              "<div id=\"df-91f1836c-96c9-4294-be1c-a715b3dd7568\">\n",
              "  <button class=\"colab-df-quickchart\" onclick=\"quickchart('df-91f1836c-96c9-4294-be1c-a715b3dd7568')\"\n",
              "            title=\"Suggest charts.\"\n",
              "            style=\"display:none;\">\n",
              "\n",
              "<svg xmlns=\"http://www.w3.org/2000/svg\" height=\"24px\"viewBox=\"0 0 24 24\"\n",
              "     width=\"24px\">\n",
              "    <g>\n",
              "        <path d=\"M19 3H5c-1.1 0-2 .9-2 2v14c0 1.1.9 2 2 2h14c1.1 0 2-.9 2-2V5c0-1.1-.9-2-2-2zM9 17H7v-7h2v7zm4 0h-2V7h2v10zm4 0h-2v-4h2v4z\"/>\n",
              "    </g>\n",
              "</svg>\n",
              "  </button>\n",
              "\n",
              "<style>\n",
              "  .colab-df-quickchart {\n",
              "    background-color: #E8F0FE;\n",
              "    border: none;\n",
              "    border-radius: 50%;\n",
              "    cursor: pointer;\n",
              "    display: none;\n",
              "    fill: #1967D2;\n",
              "    height: 32px;\n",
              "    padding: 0 0 0 0;\n",
              "    width: 32px;\n",
              "  }\n",
              "\n",
              "  .colab-df-quickchart:hover {\n",
              "    background-color: #E2EBFA;\n",
              "    box-shadow: 0px 1px 2px rgba(60, 64, 67, 0.3), 0px 1px 3px 1px rgba(60, 64, 67, 0.15);\n",
              "    fill: #174EA6;\n",
              "  }\n",
              "\n",
              "  [theme=dark] .colab-df-quickchart {\n",
              "    background-color: #3B4455;\n",
              "    fill: #D2E3FC;\n",
              "  }\n",
              "\n",
              "  [theme=dark] .colab-df-quickchart:hover {\n",
              "    background-color: #434B5C;\n",
              "    box-shadow: 0px 1px 3px 1px rgba(0, 0, 0, 0.15);\n",
              "    filter: drop-shadow(0px 1px 2px rgba(0, 0, 0, 0.3));\n",
              "    fill: #FFFFFF;\n",
              "  }\n",
              "</style>\n",
              "\n",
              "  <script>\n",
              "    async function quickchart(key) {\n",
              "      const charts = await google.colab.kernel.invokeFunction(\n",
              "          'suggestCharts', [key], {});\n",
              "    }\n",
              "    (() => {\n",
              "      let quickchartButtonEl =\n",
              "        document.querySelector('#df-91f1836c-96c9-4294-be1c-a715b3dd7568 button');\n",
              "      quickchartButtonEl.style.display =\n",
              "        google.colab.kernel.accessAllowed ? 'block' : 'none';\n",
              "    })();\n",
              "  </script>\n",
              "</div>\n",
              "    </div>\n",
              "  </div>\n"
            ]
          },
          "metadata": {},
          "execution_count": 56
        }
      ],
      "source": [
        "#Menampilkan khusus provinsi south dakota\n",
        "aa[\n",
        "    (aa[\"province_state\"] == \"South Dakota\") &\n",
        "    (aa [\"confirmed\"] > 100) &\n",
        "    (aa[\"deaths\"] > 100) &\n",
        "    (aa[\"date\"] > \"2021-01-01\")\n",
        "]"
      ]
    },
    {
      "cell_type": "markdown",
      "metadata": {
        "id": "oGdcyRSN39SO"
      },
      "source": [
        "Menampilkan pada provinsi south dakota terkena covid 19 lebih dari 100 orang dan yang meninggal juga 100 orang pada tahun kedua covid 19 atau di tahun 2022"
      ]
    },
    {
      "cell_type": "markdown",
      "metadata": {
        "id": "eVjPOLgOD7Tv"
      },
      "source": [
        "Cara mencari missing values pada dataset ini bisa menggunakan df.isnull or df.isna itu sama saja tapi kalo mau liat secara keseluruhan bisa tambahin .sum jadinya kita bisa lihat pada setiap kolom yang missing values itu pada province_state sebanyak 10632, confirmed ada 1 dan deaths ada 16."
      ]
    },
    {
      "cell_type": "code",
      "execution_count": 57,
      "metadata": {
        "colab": {
          "base_uri": "https://localhost:8080/"
        },
        "id": "_LcHqa8lQ9m9",
        "outputId": "882256db-53bb-4d43-ad33-41d41e8457d2"
      },
      "outputs": [
        {
          "output_type": "execute_result",
          "data": {
            "text/plain": [
              "province_state  date      \n",
              "England         2022-10-10    1\n",
              "                2022-12-12    1\n",
              "                2022-12-20    1\n",
              "Name: deaths, dtype: int64"
            ]
          },
          "metadata": {},
          "execution_count": 57
        }
      ],
      "source": [
        "#Menampilkan Groupby\n",
        "aa[\n",
        "    (aa[\"confirmed\"] > 20000000) &\n",
        "    (aa[\"deaths\"] > 20000)\n",
        "].groupby([\"province_state\", \"date\"])[\"deaths\"].count()"
      ]
    },
    {
      "cell_type": "markdown",
      "metadata": {
        "id": "V3Od_sHNI9zJ"
      },
      "source": [
        "kesimpulannya adalah terdapat 3 data hasil filter dari confirmed"
      ]
    },
    {
      "cell_type": "code",
      "execution_count": 58,
      "metadata": {
        "colab": {
          "base_uri": "https://localhost:8080/"
        },
        "id": "1yZgIrVfJeGk",
        "outputId": "0c39f89b-a5b1-428f-80e1-633b05bebe06"
      },
      "outputs": [
        {
          "output_type": "execute_result",
          "data": {
            "text/plain": [
              "province_state\n",
              "England    2290841.0\n",
              "Name: deaths, dtype: float64"
            ]
          },
          "metadata": {},
          "execution_count": 58
        }
      ],
      "source": [
        "aa[\n",
        "    (aa[\"province_state\"] == \"England\" ) &\n",
        "    (aa[\"date\"] > \"2021-12-31\")\n",
        "] .groupby (\"province_state\") [\"deaths\"].sum()"
      ]
    },
    {
      "cell_type": "markdown",
      "metadata": {
        "id": "21BQ2CdjNeHN"
      },
      "source": [
        "Jadi kesimpulan pada data ini mau menampilkan bahwa di inggris pada tahun 2022 itu yang meninggal jumlahnya berapa sehingga hasilnya itu 2290841.0"
      ]
    },
    {
      "cell_type": "code",
      "source": [
        "# Grouping by 'province_state' and summing 'confirmed' for 'England'\n",
        "england_data = aa[aa['province_state'] == 'England']\n",
        "england_sum = england_data['confirmed'].sum()\n",
        "\n",
        "# Creating a bar plot\n",
        "england_data.plot(kind='bar', x='province_state', y='confirmed', title=f\"Total Confirmed Cases in England: {england_sum}\")"
      ],
      "metadata": {
        "id": "QMDCElQGuaQ6",
        "outputId": "4b9c15fc-65d9-48a8-93c4-6cad9b93b3da",
        "colab": {
          "base_uri": "https://localhost:8080/",
          "height": 531
        }
      },
      "execution_count": 71,
      "outputs": [
        {
          "output_type": "execute_result",
          "data": {
            "text/plain": [
              "<Axes: title={'center': 'Total Confirmed Cases in England: 342231216.0'}, xlabel='province_state'>"
            ]
          },
          "metadata": {},
          "execution_count": 71
        },
        {
          "output_type": "display_data",
          "data": {
            "text/plain": [
              "<Figure size 640x480 with 1 Axes>"
            ],
            "image/png": "[encoded data removed]"
          },
          "metadata": {}
        }
      ]
    },
    {
      "cell_type": "code",
      "source": [
        "import seaborn as sns\n",
        "import matplotlib.pyplot as plt"
      ],
      "metadata": {
        "id": "JhWmIvtaGdY8"
      },
      "execution_count": 73,
      "outputs": []
    },
    {
      "cell_type": "code",
      "source": [
        "# Mengurutkan berdasarkan angka kematian\n",
        "sorted_df = df.sort_values(by='deaths', ascending=False)\n",
        "\n",
        "# Membuat plot bar\n",
        "plt.figure(figsize=(10, 6))\n",
        "sns.barplot(x='province_state', y='deaths', data=sorted_df)\n",
        "plt.title('Angka Kematian Terbanyak pada Provinsi')\n",
        "plt.xlabel('Provinsi')\n",
        "plt.ylabel('Jumlah Kematian')\n",
        "plt.show()"
      ],
      "metadata": {
        "colab": {
          "base_uri": "https://localhost:8080/",
          "height": 599
        },
        "id": "ADc-Xrt9GIwt",
        "outputId": "253eeb09-81d5-462c-9daf-064ecc231171"
      },
      "execution_count": 74,
      "outputs": [
        {
          "output_type": "stream",
          "name": "stderr",
          "text": [
            "/usr/local/lib/python3.10/dist-packages/seaborn/algorithms.py:98: RuntimeWarning: Mean of empty slice\n",
            "  boot_dist.append(f(*sample, **func_kwargs))\n"
          ]
        },
        {
          "output_type": "display_data",
          "data": {
            "text/plain": [
              "<Figure size 1000x600 with 1 Axes>"
            ],
            "image/png": "[encoded data removed]"
          },
          "metadata": {}
        }
      ]
    },
    {
      "cell_type": "markdown",
      "source": [
        "# VI. Kesimpulan\n"
      ],
      "metadata": {
        "id": "yOTuvhh8CoeS"
      }
    },
    {
      "cell_type": "code",
      "source": [],
      "metadata": {
        "id": "DRGaBgHXCvag"
      },
      "execution_count": null,
      "outputs": []
    }
  ],
  "metadata": {
    "colab": {
      "provenance": []
    },
    "kernelspec": {
      "display_name": "Python 3",
      "name": "python3"
    },
    "language_info": {
      "name": "python"
    }
  },
  "nbformat": 4,
  "nbformat_minor": 0
}